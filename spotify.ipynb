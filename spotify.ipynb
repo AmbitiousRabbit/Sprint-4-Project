{
 "cells": [
  {
   "cell_type": "markdown",
   "metadata": {},
   "source": [
    "# Introduction\n",
    "\n",
    "#### Objective & Scope\n",
    "* Share Insights and Findings\n",
    "* Collect, Clean and Analyze the 2023 Spotify Dataset\n",
    "* Curate and Develop a Web Application Based on the Dataset\n",
    "* Deploy the Application to Render\n",
    "\n",
    "#### Initial Questions:\n",
    "* Can we identify variables of interest that can be used to predict whether or not a song will make it the top 50, top 100, top 500? \n",
    "* Are their commmonalities between artists and their \"music magic\" (i.e. energy and liveness) despite the year the track was released that keeps the track relevant?\n",
    "* According to the dataset, is there an apparent formula to making a good, catchy song?\n",
    "* Which top 10, 5, 3 artists has the most songs produced?\n",
    "* Do these top artists have a similiar music magic formula that's allowing them to be in the top charts?\n"
   ]
  },
  {
   "cell_type": "code",
   "execution_count": 36,
   "metadata": {},
   "outputs": [],
   "source": [
    "#Libraries are imported here\n",
    "import pandas as pd\n",
    "import streamlit as st\n",
    "import numpy as np\n",
    "import plotly.express as px\n",
    "import altair as alt\n"
   ]
  },
  {
   "cell_type": "code",
   "execution_count": 37,
   "metadata": {},
   "outputs": [],
   "source": [
    "#The data is loaded here\n",
    "df = pd.read_csv(\"spotify-2023.csv\", encoding='latin1')"
   ]
  },
  {
   "cell_type": "code",
   "execution_count": 38,
   "metadata": {},
   "outputs": [
    {
     "name": "stdout",
     "output_type": "stream",
     "text": [
      "<class 'pandas.core.frame.DataFrame'>\n",
      "RangeIndex: 953 entries, 0 to 952\n",
      "Data columns (total 24 columns):\n",
      " #   Column                Non-Null Count  Dtype \n",
      "---  ------                --------------  ----- \n",
      " 0   track_name            953 non-null    object\n",
      " 1   artist(s)_name        953 non-null    object\n",
      " 2   artist_count          953 non-null    int64 \n",
      " 3   released_year         953 non-null    int64 \n",
      " 4   released_month        953 non-null    int64 \n",
      " 5   released_day          953 non-null    int64 \n",
      " 6   in_spotify_playlists  953 non-null    int64 \n",
      " 7   in_spotify_charts     953 non-null    int64 \n",
      " 8   streams               953 non-null    object\n",
      " 9   in_apple_playlists    953 non-null    int64 \n",
      " 10  in_apple_charts       953 non-null    int64 \n",
      " 11  in_deezer_playlists   953 non-null    object\n",
      " 12  in_deezer_charts      953 non-null    int64 \n",
      " 13  in_shazam_charts      903 non-null    object\n",
      " 14  bpm                   953 non-null    int64 \n",
      " 15  key                   858 non-null    object\n",
      " 16  mode                  953 non-null    object\n",
      " 17  danceability_%        953 non-null    int64 \n",
      " 18  valence_%             953 non-null    int64 \n",
      " 19  energy_%              953 non-null    int64 \n",
      " 20  acousticness_%        953 non-null    int64 \n",
      " 21  instrumentalness_%    953 non-null    int64 \n",
      " 22  liveness_%            953 non-null    int64 \n",
      " 23  speechiness_%         953 non-null    int64 \n",
      "dtypes: int64(17), object(7)\n",
      "memory usage: 178.8+ KB\n"
     ]
    }
   ],
   "source": [
    "#Before locating NaN/Missing values\n",
    "df.info()"
   ]
  },
  {
   "cell_type": "code",
   "execution_count": 39,
   "metadata": {},
   "outputs": [
    {
     "data": {
      "text/plain": [
       "track_name               0\n",
       "artist(s)_name           0\n",
       "artist_count             0\n",
       "released_year            0\n",
       "released_month           0\n",
       "released_day             0\n",
       "in_spotify_playlists     0\n",
       "in_spotify_charts        0\n",
       "streams                  0\n",
       "in_apple_playlists       0\n",
       "in_apple_charts          0\n",
       "in_deezer_playlists      0\n",
       "in_deezer_charts         0\n",
       "in_shazam_charts        50\n",
       "bpm                      0\n",
       "key                     95\n",
       "mode                     0\n",
       "danceability_%           0\n",
       "valence_%                0\n",
       "energy_%                 0\n",
       "acousticness_%           0\n",
       "instrumentalness_%       0\n",
       "liveness_%               0\n",
       "speechiness_%            0\n",
       "dtype: int64"
      ]
     },
     "execution_count": 39,
     "metadata": {},
     "output_type": "execute_result"
    }
   ],
   "source": [
    "#After locating NaN/Missing values\n",
    "df.isnull().sum()"
   ]
  },
  {
   "cell_type": "code",
   "execution_count": 40,
   "metadata": {},
   "outputs": [
    {
     "name": "stdout",
     "output_type": "stream",
     "text": [
      "<class 'pandas.core.frame.DataFrame'>\n",
      "Index: 817 entries, 0 to 952\n",
      "Data columns (total 24 columns):\n",
      " #   Column                Non-Null Count  Dtype \n",
      "---  ------                --------------  ----- \n",
      " 0   track_name            817 non-null    object\n",
      " 1   artist(s)_name        817 non-null    object\n",
      " 2   artist_count          817 non-null    int64 \n",
      " 3   released_year         817 non-null    int64 \n",
      " 4   released_month        817 non-null    int64 \n",
      " 5   released_day          817 non-null    int64 \n",
      " 6   in_spotify_playlists  817 non-null    int64 \n",
      " 7   in_spotify_charts     817 non-null    int64 \n",
      " 8   streams               817 non-null    object\n",
      " 9   in_apple_playlists    817 non-null    int64 \n",
      " 10  in_apple_charts       817 non-null    int64 \n",
      " 11  in_deezer_playlists   817 non-null    object\n",
      " 12  in_deezer_charts      817 non-null    int64 \n",
      " 13  in_shazam_charts      817 non-null    object\n",
      " 14  bpm                   817 non-null    int64 \n",
      " 15  key                   817 non-null    object\n",
      " 16  mode                  817 non-null    object\n",
      " 17  danceability_%        817 non-null    int64 \n",
      " 18  valence_%             817 non-null    int64 \n",
      " 19  energy_%              817 non-null    int64 \n",
      " 20  acousticness_%        817 non-null    int64 \n",
      " 21  instrumentalness_%    817 non-null    int64 \n",
      " 22  liveness_%            817 non-null    int64 \n",
      " 23  speechiness_%         817 non-null    int64 \n",
      "dtypes: int64(17), object(7)\n",
      "memory usage: 159.6+ KB\n"
     ]
    }
   ],
   "source": [
    "# After discovering the nan values, I decided to remove the missing value rows in order to \n",
    "# ensure across the board that all artists had a value in each of the columns and\n",
    "# therefore, the data's shape was uniform\n",
    "df.dropna(inplace=True)\n",
    "df.info()"
   ]
  },
  {
   "cell_type": "code",
   "execution_count": 41,
   "metadata": {},
   "outputs": [
    {
     "data": {
      "text/html": [
       "<div>\n",
       "<style scoped>\n",
       "    .dataframe tbody tr th:only-of-type {\n",
       "        vertical-align: middle;\n",
       "    }\n",
       "\n",
       "    .dataframe tbody tr th {\n",
       "        vertical-align: top;\n",
       "    }\n",
       "\n",
       "    .dataframe thead th {\n",
       "        text-align: right;\n",
       "    }\n",
       "</style>\n",
       "<table border=\"1\" class=\"dataframe\">\n",
       "  <thead>\n",
       "    <tr style=\"text-align: right;\">\n",
       "      <th></th>\n",
       "      <th>track_name</th>\n",
       "      <th>artist(s)_name</th>\n",
       "      <th>artist_count</th>\n",
       "      <th>released_year</th>\n",
       "      <th>released_month</th>\n",
       "      <th>released_day</th>\n",
       "      <th>in_spotify_playlists</th>\n",
       "      <th>in_spotify_charts</th>\n",
       "      <th>streams</th>\n",
       "      <th>in_apple_playlists</th>\n",
       "      <th>...</th>\n",
       "      <th>bpm</th>\n",
       "      <th>key</th>\n",
       "      <th>mode</th>\n",
       "      <th>danceability_%</th>\n",
       "      <th>valence_%</th>\n",
       "      <th>energy_%</th>\n",
       "      <th>acousticness_%</th>\n",
       "      <th>instrumentalness_%</th>\n",
       "      <th>liveness_%</th>\n",
       "      <th>speechiness_%</th>\n",
       "    </tr>\n",
       "  </thead>\n",
       "  <tbody>\n",
       "    <tr>\n",
       "      <th>0</th>\n",
       "      <td>Seven (feat. Latto) (Explicit Ver.)</td>\n",
       "      <td>Latto, Jung Kook</td>\n",
       "      <td>2</td>\n",
       "      <td>2023</td>\n",
       "      <td>7</td>\n",
       "      <td>14</td>\n",
       "      <td>553</td>\n",
       "      <td>147</td>\n",
       "      <td>141381703</td>\n",
       "      <td>43</td>\n",
       "      <td>...</td>\n",
       "      <td>125</td>\n",
       "      <td>B</td>\n",
       "      <td>Major</td>\n",
       "      <td>80</td>\n",
       "      <td>89</td>\n",
       "      <td>83</td>\n",
       "      <td>31</td>\n",
       "      <td>0</td>\n",
       "      <td>8</td>\n",
       "      <td>4</td>\n",
       "    </tr>\n",
       "    <tr>\n",
       "      <th>1</th>\n",
       "      <td>LALA</td>\n",
       "      <td>Myke Towers</td>\n",
       "      <td>1</td>\n",
       "      <td>2023</td>\n",
       "      <td>3</td>\n",
       "      <td>23</td>\n",
       "      <td>1474</td>\n",
       "      <td>48</td>\n",
       "      <td>133716286</td>\n",
       "      <td>48</td>\n",
       "      <td>...</td>\n",
       "      <td>92</td>\n",
       "      <td>C#</td>\n",
       "      <td>Major</td>\n",
       "      <td>71</td>\n",
       "      <td>61</td>\n",
       "      <td>74</td>\n",
       "      <td>7</td>\n",
       "      <td>0</td>\n",
       "      <td>10</td>\n",
       "      <td>4</td>\n",
       "    </tr>\n",
       "    <tr>\n",
       "      <th>2</th>\n",
       "      <td>vampire</td>\n",
       "      <td>Olivia Rodrigo</td>\n",
       "      <td>1</td>\n",
       "      <td>2023</td>\n",
       "      <td>6</td>\n",
       "      <td>30</td>\n",
       "      <td>1397</td>\n",
       "      <td>113</td>\n",
       "      <td>140003974</td>\n",
       "      <td>94</td>\n",
       "      <td>...</td>\n",
       "      <td>138</td>\n",
       "      <td>F</td>\n",
       "      <td>Major</td>\n",
       "      <td>51</td>\n",
       "      <td>32</td>\n",
       "      <td>53</td>\n",
       "      <td>17</td>\n",
       "      <td>0</td>\n",
       "      <td>31</td>\n",
       "      <td>6</td>\n",
       "    </tr>\n",
       "    <tr>\n",
       "      <th>3</th>\n",
       "      <td>Cruel Summer</td>\n",
       "      <td>Taylor Swift</td>\n",
       "      <td>1</td>\n",
       "      <td>2019</td>\n",
       "      <td>8</td>\n",
       "      <td>23</td>\n",
       "      <td>7858</td>\n",
       "      <td>100</td>\n",
       "      <td>800840817</td>\n",
       "      <td>116</td>\n",
       "      <td>...</td>\n",
       "      <td>170</td>\n",
       "      <td>A</td>\n",
       "      <td>Major</td>\n",
       "      <td>55</td>\n",
       "      <td>58</td>\n",
       "      <td>72</td>\n",
       "      <td>11</td>\n",
       "      <td>0</td>\n",
       "      <td>11</td>\n",
       "      <td>15</td>\n",
       "    </tr>\n",
       "    <tr>\n",
       "      <th>4</th>\n",
       "      <td>WHERE SHE GOES</td>\n",
       "      <td>Bad Bunny</td>\n",
       "      <td>1</td>\n",
       "      <td>2023</td>\n",
       "      <td>5</td>\n",
       "      <td>18</td>\n",
       "      <td>3133</td>\n",
       "      <td>50</td>\n",
       "      <td>303236322</td>\n",
       "      <td>84</td>\n",
       "      <td>...</td>\n",
       "      <td>144</td>\n",
       "      <td>A</td>\n",
       "      <td>Minor</td>\n",
       "      <td>65</td>\n",
       "      <td>23</td>\n",
       "      <td>80</td>\n",
       "      <td>14</td>\n",
       "      <td>63</td>\n",
       "      <td>11</td>\n",
       "      <td>6</td>\n",
       "    </tr>\n",
       "  </tbody>\n",
       "</table>\n",
       "<p>5 rows × 24 columns</p>\n",
       "</div>"
      ],
      "text/plain": [
       "                            track_name    artist(s)_name  artist_count  \\\n",
       "0  Seven (feat. Latto) (Explicit Ver.)  Latto, Jung Kook             2   \n",
       "1                                 LALA       Myke Towers             1   \n",
       "2                              vampire    Olivia Rodrigo             1   \n",
       "3                         Cruel Summer      Taylor Swift             1   \n",
       "4                       WHERE SHE GOES         Bad Bunny             1   \n",
       "\n",
       "   released_year  released_month  released_day  in_spotify_playlists  \\\n",
       "0           2023               7            14                   553   \n",
       "1           2023               3            23                  1474   \n",
       "2           2023               6            30                  1397   \n",
       "3           2019               8            23                  7858   \n",
       "4           2023               5            18                  3133   \n",
       "\n",
       "   in_spotify_charts    streams  in_apple_playlists  ...  bpm key   mode  \\\n",
       "0                147  141381703                  43  ...  125   B  Major   \n",
       "1                 48  133716286                  48  ...   92  C#  Major   \n",
       "2                113  140003974                  94  ...  138   F  Major   \n",
       "3                100  800840817                 116  ...  170   A  Major   \n",
       "4                 50  303236322                  84  ...  144   A  Minor   \n",
       "\n",
       "  danceability_%  valence_% energy_% acousticness_%  instrumentalness_%  \\\n",
       "0             80         89       83             31                   0   \n",
       "1             71         61       74              7                   0   \n",
       "2             51         32       53             17                   0   \n",
       "3             55         58       72             11                   0   \n",
       "4             65         23       80             14                  63   \n",
       "\n",
       "   liveness_%  speechiness_%  \n",
       "0           8              4  \n",
       "1          10              4  \n",
       "2          31              6  \n",
       "3          11             15  \n",
       "4          11              6  \n",
       "\n",
       "[5 rows x 24 columns]"
      ]
     },
     "execution_count": 41,
     "metadata": {},
     "output_type": "execute_result"
    }
   ],
   "source": [
    "df.head()"
   ]
  },
  {
   "cell_type": "code",
   "execution_count": 42,
   "metadata": {},
   "outputs": [
    {
     "name": "stdout",
     "output_type": "stream",
     "text": [
      "There are 571 artists and or groups who reached Spotify's Most Streams Songs on their platform in 2023.\n"
     ]
    }
   ],
   "source": [
    "print(f\"There are {df['artist(s)_name'].nunique()} artists and or groups who reached Spotify's Most Streams Songs on their platform in 2023.\")"
   ]
  },
  {
   "cell_type": "code",
   "execution_count": 43,
   "metadata": {},
   "outputs": [
    {
     "data": {
      "text/plain": [
       "artist(s)_name\n",
       "Taylor Swift           29\n",
       "SZA                    17\n",
       "Bad Bunny              16\n",
       "The Weeknd             15\n",
       "Kendrick Lamar         12\n",
       "                       ..\n",
       "Kanii, PR1ISVX          1\n",
       "Yng Lvcas               1\n",
       "NF                      1\n",
       "Tiï¿½ï¿½sto, Tate M     1\n",
       "Feid, Sech, Jhayco      1\n",
       "Name: count, Length: 571, dtype: int64"
      ]
     },
     "execution_count": 43,
     "metadata": {},
     "output_type": "execute_result"
    }
   ],
   "source": [
    "num_of_artists = df['artist(s)_name'].value_counts()\n",
    "num_of_artists"
   ]
  },
  {
   "cell_type": "code",
   "execution_count": 44,
   "metadata": {},
   "outputs": [
    {
     "data": {
      "text/plain": [
       "artist(s)_name\n",
       "Taylor Swift        29\n",
       "SZA                 17\n",
       "Bad Bunny           16\n",
       "The Weeknd          15\n",
       "Kendrick Lamar      12\n",
       "Harry Styles        12\n",
       "Morgan Wallen        9\n",
       "Feid                 8\n",
       "Drake, 21 Savage     7\n",
       "BTS                  7\n",
       "Name: count, dtype: int64"
      ]
     },
     "execution_count": 44,
     "metadata": {},
     "output_type": "execute_result"
    }
   ],
   "source": [
    "num_of_artists.head(10)"
   ]
  },
  {
   "cell_type": "markdown",
   "metadata": {},
   "source": [
    "There are 8 solo artists and 2 (Kpop & Duo) groups that had between 7-29 popular songs charting on Spotify."
   ]
  },
  {
   "cell_type": "code",
   "execution_count": 45,
   "metadata": {},
   "outputs": [
    {
     "data": {
      "text/plain": [
       "0"
      ]
     },
     "execution_count": 45,
     "metadata": {},
     "output_type": "execute_result"
    }
   ],
   "source": [
    "df.duplicated().sum()"
   ]
  },
  {
   "cell_type": "code",
   "execution_count": 46,
   "metadata": {},
   "outputs": [
    {
     "name": "stdout",
     "output_type": "stream",
     "text": [
      "Here are the 11 unique keys popular songs were played in: \n",
      " ['B' 'C#' 'F' 'A' 'D' 'F#' 'G#' 'G' 'E' 'A#' 'D#'] \n"
     ]
    }
   ],
   "source": [
    "print(f\"Here are the {df['key'].nunique()} unique keys popular songs were played in: \\n {df['key'].unique()} \")"
   ]
  },
  {
   "cell_type": "code",
   "execution_count": 47,
   "metadata": {},
   "outputs": [
    {
     "name": "stdout",
     "output_type": "stream",
     "text": [
      "Here are all the 46 distinct years a song was released in yet was relavent all of 2023: \n",
      " [1930 1942 1946 1950 1957 1958 1959 1963 1970 1971 1973 1975 1979 1982\n",
      " 1983 1984 1985 1986 1987 1991 1992 1995 1996 1997 1998 1999 2000 2002\n",
      " 2003 2004 2005 2008 2010 2011 2012 2013 2014 2015 2016 2017 2018 2019\n",
      " 2020 2021 2022 2023] \n"
     ]
    }
   ],
   "source": [
    "print(f\"Here are all the {df['released_year'].sort_values().nunique()} distinct years a song was released in yet was relavent all of 2023: \\n {df['released_year'].sort_values().unique()} \")\n"
   ]
  },
  {
   "cell_type": "code",
   "execution_count": 48,
   "metadata": {},
   "outputs": [
    {
     "data": {
      "application/vnd.plotly.v1+json": {
       "config": {
        "plotlyServerURL": "https://plot.ly"
       },
       "data": [
        {
         "alignmentgroup": "True",
         "bingroup": "x",
         "hovertemplate": "streams=%{x}<br>count=%{y}<extra></extra>",
         "legendgroup": "",
         "marker": {
          "color": "#000001",
          "pattern": {
           "shape": ""
          }
         },
         "name": "",
         "nbinsx": 100,
         "offsetgroup": "",
         "orientation": "v",
         "showlegend": false,
         "type": "histogram",
         "x": [
          "141381703",
          "133716286",
          "140003974",
          "800840817",
          "303236322",
          "183706234",
          "725980112",
          "58149378",
          "95217315",
          "553634067",
          "505671438",
          "58255150",
          "387570742",
          "1163093654",
          "496795686",
          "335222234",
          "363369738",
          "86444842",
          "52135248",
          "200647221",
          "115364561",
          "78300654",
          "899183384",
          "61245289",
          "429829812",
          "127408954",
          "22581161",
          "52294266",
          "843957510",
          "999748277",
          "618990393",
          "188933502",
          "1355959075",
          "786181836",
          "176553476",
          "354495408",
          "2808096550",
          "1109433169",
          "1047101291",
          "570515054",
          "1647990401",
          "2565529693",
          "518745108",
          "107753850",
          "177740666",
          "153372011",
          "57876440",
          "256483385",
          "1214083358",
          "111947664",
          "156338624",
          "720434240",
          "357925728",
          "674072710",
          "1755214421",
          "404562836",
          "373199958",
          "14780425",
          "39578178",
          "54266102",
          "751134527",
          "1356565093",
          "1592909789",
          "635412045",
          "1230675890",
          "585695368",
          "43857627",
          "2009094673",
          "600976848",
          "39709092",
          "39228929",
          "2665343922",
          "223633238",
          "1440757818",
          "165484133",
          "58054811",
          "157058870",
          "95131998",
          "250305248",
          "685032533",
          "38411956",
          "144565150",
          "127567540",
          "399686758",
          "983637508",
          "118482347",
          "882831184",
          "286400165",
          "172825906",
          "1241559043",
          "29562220",
          "77309611",
          "1605224506",
          "1116995633",
          "838079900",
          "1163620694",
          "1093605526",
          "179659294",
          "39058561",
          "36912123",
          "1205951614",
          "1791000570",
          "201660859",
          "248088961",
          "90839753",
          "607123776",
          "55842345",
          "211050784",
          "342897938",
          "2762",
          "601863821",
          "1953533826",
          "2355719893",
          "66902503",
          "96273746",
          "430977451",
          "284819874",
          "721975598",
          "276259178",
          "54225632",
          "2559529074",
          "681583126",
          "2594040133",
          "81102253",
          "11956641",
          "1687664027",
          "611700552",
          "1133865788",
          "1089402494",
          "411747614",
          "255932395",
          "31873544",
          "233801632",
          "1481349984",
          "142095275",
          "2011464183",
          "436027885",
          "2713922350",
          "621660989",
          "950906471",
          "1593270737",
          "1410088830",
          "1235005533",
          "1374581173",
          "94186466",
          "1788326445",
          "1840364617",
          "143573775",
          "684675814",
          "1113838873",
          "1267333350",
          "3562543890",
          "1271293243",
          "265882712",
          "841749534",
          "47956378",
          "806397070",
          "1641426668",
          "2135158446",
          "367316268",
          "350381515",
          "1264310836",
          "30343206",
          "405136812",
          "540654286",
          "57312735",
          "397582059",
          "1479115056",
          "86773632",
          "133753727",
          "123124076",
          "463564958",
          "64533040",
          "65496046",
          "68616963",
          "161460990",
          "70106975",
          "113509496",
          "89933133",
          "71007139",
          "43522589",
          "232896922",
          "37126685",
          "195576623",
          "532336353",
          "538115192",
          "46142772",
          "401036314",
          "127026613",
          "345031710",
          "288101651",
          "60350538",
          "335074782",
          "76767396",
          "46065667",
          "459276435",
          "39666245",
          "138517666",
          "822633917",
          "595900742",
          "51985779",
          "57945987",
          "115010040",
          "175097833",
          "57089066",
          "488386797",
          "32761689",
          "1047480053",
          "153454328",
          "217672943",
          "457184829",
          "726434358",
          "573633020",
          "1406111294",
          "71573339",
          "24975653",
          "145458418",
          "1424589568",
          "231332117",
          "415932686",
          "988515741",
          "50847624",
          "39893489",
          "92035115",
          "118810253",
          "77233241",
          "117747907",
          "266624541",
          "293186992",
          "139681964",
          "123132751",
          "103762518",
          "162887075",
          "91221625",
          "190490915",
          "96180277",
          "185240616",
          "885093467",
          "104992946",
          "147290338",
          "158950978",
          "76910644",
          "137123880",
          "782369383",
          "502574952",
          "207033255",
          "381161027",
          "466231982",
          "357580552",
          "61105704",
          "198275403",
          "705469769",
          "34502215",
          "304118600",
          "1449799467",
          "173627354",
          "90025258",
          "652704649",
          "1829992958",
          "655466831",
          "146409671",
          "95816024",
          "117206995",
          "100409613",
          "80758350",
          "325592432",
          "58473276",
          "52722996",
          "191945597",
          "77377503",
          "743693613",
          "267789608",
          "449701773",
          "67070410",
          "116334601",
          "165584767",
          "367814306",
          "477033549",
          "156214700",
          "448843705",
          "294352144",
          "972164968",
          "920045682",
          "2420461338",
          "244658767",
          "68216992",
          "223582566",
          "471819764",
          "1361425037",
          "116599790",
          "148469433",
          "497225336",
          "88791109",
          "125917280",
          "105062254",
          "95623148",
          "144584800",
          "298063749",
          "166570053",
          "83021468",
          "139836056",
          "303216294",
          "221409663",
          "58890931",
          "81419389",
          "156777415",
          "284908316",
          "93438910",
          "363472647",
          "372476382",
          "56533272",
          "175399345",
          "203221468",
          "1624165576",
          "134294498",
          "70069745",
          "609293408",
          "671365962",
          "93587665",
          "1223481149",
          "1022258230",
          "263453310",
          "1435127549",
          "236857112",
          "147538971",
          "698086140",
          "723894473",
          "403097450",
          "309483971",
          "319566866",
          "909001996",
          "1061966512",
          "124988687",
          "134255790",
          "301051721",
          "156338624",
          "309653982",
          "297328960",
          "332506354",
          "480507035",
          "1065580332",
          "122763672",
          "1365184",
          "184308753",
          "606361689",
          "120972253",
          "338564981",
          "1606986953",
          "1301799902",
          "140187018",
          "107642809",
          "556585270",
          "2303033973",
          "646886885",
          "872137015",
          "571386359",
          "174006928",
          "284785823",
          "163284000",
          "246390068",
          "482257456",
          "168684524",
          "78489819",
          "195516622",
          "1260594497",
          "428685680",
          "1024858327",
          "838586769",
          "199386237",
          "972509632",
          "213438580",
          "210038833",
          "227918678",
          "826623384",
          "1802514301",
          "181831132",
          "462791599",
          "348647203",
          "90598517",
          "807561936",
          "663832097",
          "446390129",
          "485285717",
          "520034544",
          "476244795",
          "629173063",
          "404664135",
          "98709329",
          "110849052",
          "460492795",
          "94005786",
          "389771964",
          "403939487",
          "110073250",
          "351636786",
          "473248298",
          "73981293",
          "155653938",
          "395591396",
          "429504768",
          "242767149",
          "65362788",
          "67540165",
          "62019074",
          "295998468",
          "136689549",
          "135611421",
          "356709897",
          "110649992",
          "301869854",
          "127027715",
          "57144458",
          "56870689",
          "323437194",
          "317726339",
          "116144341",
          "328207708",
          "608228647",
          "180577478",
          "809306935",
          "49262961",
          "614555082",
          "245350949",
          "178660459",
          "51641685",
          "78139948",
          "322336177",
          "391251368",
          "349585590",
          "674772936",
          "119238316",
          "116903579",
          "888046992",
          "130655803",
          "88103848",
          "101114984",
          "1575467011",
          "91656026",
          "53933526",
          "267758538",
          "74601456",
          "920797189",
          "539595276",
          "1367810478",
          "578207856",
          "775542072",
          "656013912",
          "240684449",
          "63803529",
          "466214729",
          "236940480",
          "41924466",
          "225259194",
          "393230256",
          "287201015",
          "599770206",
          "342779426",
          "673801126",
          "1168642797",
          "383550148",
          "530511203",
          "510876816",
          "1763363713",
          "374191487",
          "108809090",
          "436695353",
          "354065229",
          "1143647827",
          "311395144",
          "672656250",
          "1256880657",
          "245095641",
          "686734357",
          "261414174",
          "610045621",
          "1115880852",
          "594482982",
          "566954746",
          "BPM110KeyAModeMajorDanceability53Valence75Energy69Acousticness7Instrumentalness0Liveness17Speechiness3",
          "184937148",
          "31959571",
          "824420218",
          "363467642",
          "1127468248",
          "60680939",
          "247737946",
          "154797871",
          "124407432",
          "850608354",
          "376333030",
          "516784627",
          "1608045237",
          "506778838",
          "1472799873",
          "513643924",
          "261286503",
          "783706581",
          "422691058",
          "1062345656",
          "851070493",
          "263894529",
          "345903614",
          "956865266",
          "427486004",
          "156658366",
          "624515457",
          "777765388",
          "1138474110",
          "355219175",
          "290228626",
          "1062956628",
          "1180094974",
          "1456081449",
          "432702334",
          "489945871",
          "465959382",
          "1223481149",
          "2288695111",
          "720825549",
          "2086124197",
          "1690192927",
          "593917618",
          "200972675",
          "71014967",
          "560222750",
          "1806617704",
          "77337771",
          "528544703",
          "865640097",
          "2159346687",
          "211372494",
          "651732901",
          "608334048",
          "863756573",
          "797402345",
          "1695712020",
          "1759567999",
          "223319934",
          "54937991",
          "258316038",
          "596152090",
          "177129919",
          "716591492",
          "1210599487",
          "246376690",
          "496311364",
          "843309044",
          "500340342",
          "107255472",
          "135079152",
          "822239726",
          "1202722675",
          "343197054",
          "240769997",
          "426204830",
          "421135627",
          "554875730",
          "327498031",
          "185408548",
          "245400167",
          "579395142",
          "675039469",
          "252871192",
          "231996128",
          "1929770265",
          "918915401",
          "1180896317",
          "498960285",
          "258714692",
          "143139338",
          "209768491",
          "64714573",
          "50746620",
          "154119539",
          "181328253",
          "370068639",
          "2280566092",
          "563902868",
          "317622165",
          "203680270",
          "81350745",
          "282883169",
          "64787943",
          "2484812918",
          "461437791",
          "1439191367",
          "759208783",
          "368646862",
          "299634472",
          "756907987",
          "682475162",
          "546191065",
          "229473310",
          "202677468",
          "208166039",
          "527033089",
          "94616487",
          "394030335",
          "193443895",
          "299648208",
          "319757142",
          "153240879",
          "346127840",
          "312622938",
          "1200808494",
          "797196073",
          "1970673297",
          "665765558",
          "263779030",
          "339473453",
          "2204080728",
          "2591224264",
          "135444283",
          "236872197",
          "694525298",
          "421365166",
          "349746291",
          "255120451",
          "190981339",
          "924193303",
          "305771063",
          "273005485",
          "89566512",
          "677389855",
          "75476209",
          "408843328",
          "187772591",
          "178512385",
          "101780047",
          "146363130",
          "126443991",
          "157990698",
          "176290831",
          "1023187129",
          "106933107",
          "139193812",
          "212234990",
          "1714490998",
          "197643795",
          "807015863",
          "933815613",
          "499710590",
          "120847157",
          "53909146",
          "2236667932",
          "2123309722",
          "301242089",
          "723894473",
          "237351106",
          "461558540",
          "156898322",
          "127309180",
          "173702135",
          "305650299",
          "123216717",
          "479655659",
          "126191104",
          "344055883",
          "338422004",
          "68895644",
          "86176890",
          "403231558",
          "319546754",
          "61739839",
          "283359161",
          "76831876",
          "283332261",
          "307752576",
          "279737940",
          "212351890",
          "1304313953",
          "150500965",
          "246127838",
          "582863434",
          "58687425",
          "212109195",
          "382199619",
          "41210087",
          "231657891",
          "53729194",
          "244741137",
          "42485571",
          "37778188",
          "254218729",
          "53603447",
          "160035717",
          "37091576",
          "284249832",
          "33381454",
          "184622518",
          "300983101",
          "121077868",
          "106919680",
          "136996305",
          "65719930",
          "229497852",
          "185550869",
          "54682594",
          "240580042",
          "1284942608",
          "71423324",
          "244891912",
          "132171975",
          "184706613",
          "184826429",
          "302006641",
          "330881149",
          "334733572",
          "366214458",
          "114546317",
          "448500832",
          "136676504",
          "190625045",
          "79095270",
          "273194684",
          "333146475",
          "194902696",
          "195918494",
          "248511839",
          "233671263",
          "199587884",
          "91781263",
          "383835984",
          "236060709",
          "189236868",
          "160845341",
          "588955257",
          "238350348",
          "187703102",
          "138334433",
          "445590495",
          "286739476",
          "1122364376",
          "157136970",
          "183273246",
          "164856284",
          "704171068",
          "354614964",
          "279717388",
          "195628667",
          "221752937",
          "263280370",
          "213505179",
          "130419412",
          "155795783",
          "1553497987",
          "293466523",
          "191448892",
          "85924992",
          "176103902",
          "121189256",
          "131746175",
          "244790012",
          "129314708",
          "331511413",
          "170732845",
          "179061440",
          "185236961",
          "171788484",
          "387080183",
          "264717480",
          "244928911",
          "97610446",
          "287278853",
          "887906111",
          "123473120",
          "323455692",
          "240918092",
          "191873381",
          "239411309",
          "703301727",
          "189476119",
          "277132266",
          "278920007",
          "222410722",
          "185392587",
          "202452860",
          "1608164312",
          "624101957",
          "148461629",
          "47093942",
          "380319238",
          "209106362",
          "53987404",
          "115331792",
          "225093344",
          "84697729",
          "159240673",
          "170709584",
          "154356956",
          "723043854",
          "247689123",
          "176474912",
          "235549288",
          "85559365",
          "146223492",
          "187701588",
          "154863153",
          "191333656",
          "253650850",
          "223064273",
          "170413877",
          "218320587",
          "141720999",
          "198365537",
          "177503916",
          "71095708",
          "112436403",
          "203436468",
          "93367537",
          "106249219",
          "181382590",
          "91473363",
          "121871870",
          "73513683",
          "133895612",
          "96007391"
         ],
         "xaxis": "x",
         "yaxis": "y"
        }
       ],
       "layout": {
        "barmode": "relative",
        "legend": {
         "tracegroupgap": 0
        },
        "margin": {
         "t": 60
        },
        "template": {
         "data": {
          "candlestick": [
           {
            "decreasing": {
             "line": {
              "color": "#000033"
             }
            },
            "increasing": {
             "line": {
              "color": "#000032"
             }
            },
            "type": "candlestick"
           }
          ],
          "contour": [
           {
            "colorscale": [
             [
              0,
              "#000011"
             ],
             [
              0.1111111111111111,
              "#000012"
             ],
             [
              0.2222222222222222,
              "#000013"
             ],
             [
              0.3333333333333333,
              "#000014"
             ],
             [
              0.4444444444444444,
              "#000015"
             ],
             [
              0.5555555555555556,
              "#000016"
             ],
             [
              0.6666666666666666,
              "#000017"
             ],
             [
              0.7777777777777778,
              "#000018"
             ],
             [
              0.8888888888888888,
              "#000019"
             ],
             [
              1,
              "#000020"
             ]
            ],
            "type": "contour"
           }
          ],
          "contourcarpet": [
           {
            "colorscale": [
             [
              0,
              "#000011"
             ],
             [
              0.1111111111111111,
              "#000012"
             ],
             [
              0.2222222222222222,
              "#000013"
             ],
             [
              0.3333333333333333,
              "#000014"
             ],
             [
              0.4444444444444444,
              "#000015"
             ],
             [
              0.5555555555555556,
              "#000016"
             ],
             [
              0.6666666666666666,
              "#000017"
             ],
             [
              0.7777777777777778,
              "#000018"
             ],
             [
              0.8888888888888888,
              "#000019"
             ],
             [
              1,
              "#000020"
             ]
            ],
            "type": "contourcarpet"
           }
          ],
          "heatmap": [
           {
            "colorscale": [
             [
              0,
              "#000011"
             ],
             [
              0.1111111111111111,
              "#000012"
             ],
             [
              0.2222222222222222,
              "#000013"
             ],
             [
              0.3333333333333333,
              "#000014"
             ],
             [
              0.4444444444444444,
              "#000015"
             ],
             [
              0.5555555555555556,
              "#000016"
             ],
             [
              0.6666666666666666,
              "#000017"
             ],
             [
              0.7777777777777778,
              "#000018"
             ],
             [
              0.8888888888888888,
              "#000019"
             ],
             [
              1,
              "#000020"
             ]
            ],
            "type": "heatmap"
           }
          ],
          "histogram2d": [
           {
            "colorscale": [
             [
              0,
              "#000011"
             ],
             [
              0.1111111111111111,
              "#000012"
             ],
             [
              0.2222222222222222,
              "#000013"
             ],
             [
              0.3333333333333333,
              "#000014"
             ],
             [
              0.4444444444444444,
              "#000015"
             ],
             [
              0.5555555555555556,
              "#000016"
             ],
             [
              0.6666666666666666,
              "#000017"
             ],
             [
              0.7777777777777778,
              "#000018"
             ],
             [
              0.8888888888888888,
              "#000019"
             ],
             [
              1,
              "#000020"
             ]
            ],
            "type": "histogram2d"
           }
          ],
          "icicle": [
           {
            "textfont": {
             "color": "white"
            },
            "type": "icicle"
           }
          ],
          "sankey": [
           {
            "textfont": {
             "color": "#000036"
            },
            "type": "sankey"
           }
          ],
          "scatter": [
           {
            "marker": {
             "line": {
              "width": 0
             }
            },
            "type": "scatter"
           }
          ],
          "table": [
           {
            "cells": {
             "fill": {
              "color": "#000038"
             },
             "font": {
              "color": "#000037"
             },
             "line": {
              "color": "#000039"
             }
            },
            "header": {
             "fill": {
              "color": "#000040"
             },
             "font": {
              "color": "#000036"
             },
             "line": {
              "color": "#000039"
             }
            },
            "type": "table"
           }
          ],
          "waterfall": [
           {
            "connector": {
             "line": {
              "color": "#000036",
              "width": 2
             }
            },
            "decreasing": {
             "marker": {
              "color": "#000033"
             }
            },
            "increasing": {
             "marker": {
              "color": "#000032"
             }
            },
            "totals": {
             "marker": {
              "color": "#000034"
             }
            },
            "type": "waterfall"
           }
          ]
         },
         "layout": {
          "coloraxis": {
           "colorscale": [
            [
             0,
             "#000011"
            ],
            [
             0.1111111111111111,
             "#000012"
            ],
            [
             0.2222222222222222,
             "#000013"
            ],
            [
             0.3333333333333333,
             "#000014"
            ],
            [
             0.4444444444444444,
             "#000015"
            ],
            [
             0.5555555555555556,
             "#000016"
            ],
            [
             0.6666666666666666,
             "#000017"
            ],
            [
             0.7777777777777778,
             "#000018"
            ],
            [
             0.8888888888888888,
             "#000019"
            ],
            [
             1,
             "#000020"
            ]
           ]
          },
          "colorscale": {
           "diverging": [
            [
             0,
             "#000021"
            ],
            [
             0.1,
             "#000022"
            ],
            [
             0.2,
             "#000023"
            ],
            [
             0.3,
             "#000024"
            ],
            [
             0.4,
             "#000025"
            ],
            [
             0.5,
             "#000026"
            ],
            [
             0.6,
             "#000027"
            ],
            [
             0.7,
             "#000028"
            ],
            [
             0.8,
             "#000029"
            ],
            [
             0.9,
             "#000030"
            ],
            [
             1,
             "#000031"
            ]
           ],
           "sequential": [
            [
             0,
             "#000011"
            ],
            [
             0.1111111111111111,
             "#000012"
            ],
            [
             0.2222222222222222,
             "#000013"
            ],
            [
             0.3333333333333333,
             "#000014"
            ],
            [
             0.4444444444444444,
             "#000015"
            ],
            [
             0.5555555555555556,
             "#000016"
            ],
            [
             0.6666666666666666,
             "#000017"
            ],
            [
             0.7777777777777778,
             "#000018"
            ],
            [
             0.8888888888888888,
             "#000019"
            ],
            [
             1,
             "#000020"
            ]
           ],
           "sequentialminus": [
            [
             0,
             "#000011"
            ],
            [
             0.1111111111111111,
             "#000012"
            ],
            [
             0.2222222222222222,
             "#000013"
            ],
            [
             0.3333333333333333,
             "#000014"
            ],
            [
             0.4444444444444444,
             "#000015"
            ],
            [
             0.5555555555555556,
             "#000016"
            ],
            [
             0.6666666666666666,
             "#000017"
            ],
            [
             0.7777777777777778,
             "#000018"
            ],
            [
             0.8888888888888888,
             "#000019"
            ],
            [
             1,
             "#000020"
            ]
           ]
          },
          "colorway": [
           "#000001",
           "#000002",
           "#000003",
           "#000004",
           "#000005",
           "#000006",
           "#000007",
           "#000008",
           "#000009",
           "#000010"
          ]
         }
        },
        "xaxis": {
         "anchor": "y",
         "domain": [
          0,
          1
         ],
         "title": {
          "text": "streams"
         }
        },
        "yaxis": {
         "anchor": "x",
         "domain": [
          0,
          1
         ],
         "title": {
          "text": "count"
         }
        }
       }
      }
     },
     "metadata": {},
     "output_type": "display_data"
    }
   ],
   "source": [
    "fig = px.histogram(df, x='streams', nbins=100)\n",
    "fig.show()\n"
   ]
  }
 ],
 "metadata": {
  "kernelspec": {
   "display_name": "Python 3",
   "language": "python",
   "name": "python3"
  },
  "language_info": {
   "codemirror_mode": {
    "name": "ipython",
    "version": 3
   },
   "file_extension": ".py",
   "mimetype": "text/x-python",
   "name": "python",
   "nbconvert_exporter": "python",
   "pygments_lexer": "ipython3",
   "version": "3.10.13"
  }
 },
 "nbformat": 4,
 "nbformat_minor": 2
}
